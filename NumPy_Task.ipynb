{
 "cells": [
  {
   "cell_type": "markdown",
   "id": "f53b047e-69a3-45d2-b911-a36a0f3f69c3",
   "metadata": {},
   "source": [
    "# NumPy Practical Test"
   ]
  },
  {
   "cell_type": "markdown",
   "id": "be8f0df5-a41c-4318-b370-8e3cdf3ad381",
   "metadata": {},
   "source": [
    "### Q1. Create a 1D NumPy array of numbers from 0 to 9."
   ]
  },
  {
   "cell_type": "code",
   "execution_count": 20,
   "id": "52c796a6-05ef-49a3-b36a-843d3824aaff",
   "metadata": {},
   "outputs": [],
   "source": [
    "import numpy as np"
   ]
  },
  {
   "cell_type": "code",
   "execution_count": 45,
   "id": "d5f38122-b3ff-45ee-a66c-b1f69dd58a33",
   "metadata": {},
   "outputs": [
    {
     "data": {
      "text/plain": [
       "array([0, 1, 2, 3, 4, 5, 6, 7, 8, 9])"
      ]
     },
     "execution_count": 45,
     "metadata": {},
     "output_type": "execute_result"
    }
   ],
   "source": [
    "arr1D = np.array([0, 1, 2, 3, 4, 5, 6, 7, 8, 9])\n",
    "arr1D"
   ]
  },
  {
   "cell_type": "markdown",
   "id": "98ac99f9-ef8d-432c-9f83-26194ea3d503",
   "metadata": {},
   "source": [
    "### Q2. Create a 2D array of shape (3, 3) with all elements as 1."
   ]
  },
  {
   "cell_type": "code",
   "execution_count": 46,
   "id": "d5793194-d024-46a6-beb8-23cda6d44352",
   "metadata": {},
   "outputs": [
    {
     "data": {
      "text/plain": [
       "array([[1, 1, 1],\n",
       "       [1, 1, 1],\n",
       "       [1, 1, 1]])"
      ]
     },
     "execution_count": 46,
     "metadata": {},
     "output_type": "execute_result"
    }
   ],
   "source": [
    "arr2D = np.array([[1, 1, 1],[1, 1, 1],[1, 1, 1]])\n",
    "arr2D"
   ]
  },
  {
   "cell_type": "markdown",
   "id": "546e5a87-a89e-4d30-98b4-dda1203f8f63",
   "metadata": {},
   "source": [
    "### Q3. Generate a NumPy array of 15 random integers between 10 and 50."
   ]
  },
  {
   "cell_type": "code",
   "execution_count": 47,
   "id": "03b35f68-3d13-45a6-9fb8-4411288ce4ac",
   "metadata": {},
   "outputs": [
    {
     "data": {
      "text/plain": [
       "array([29, 27, 23, 34, 45, 23, 11, 29, 48, 38, 39, 20, 41, 11, 24])"
      ]
     },
     "execution_count": 47,
     "metadata": {},
     "output_type": "execute_result"
    }
   ],
   "source": [
    "random_arr = np.random.randint(10, 50, 15)\n",
    "random_arr"
   ]
  },
  {
   "cell_type": "markdown",
   "id": "b80b7a6f-6fc2-4efc-a9e6-4f8de5225d6e",
   "metadata": {},
   "source": [
    "### Q4. Create an array of 5 evenly spaced numbers between 0 and 1 (inclusive)."
   ]
  },
  {
   "cell_type": "code",
   "execution_count": 50,
   "id": "4fcb441a-fe87-4240-a0cb-acde7c356e99",
   "metadata": {},
   "outputs": [
    {
     "data": {
      "text/plain": [
       "array([0.  , 0.25, 0.5 , 0.75, 1.  ])"
      ]
     },
     "execution_count": 50,
     "metadata": {},
     "output_type": "execute_result"
    }
   ],
   "source": [
    "arr_space = np.linspace(0, 1, 5)\n",
    "arr_space"
   ]
  },
  {
   "cell_type": "markdown",
   "id": "153e13bd-b46c-4674-b8e3-2fe2cae729e0",
   "metadata": {},
   "source": [
    "### Q5. Create a 4x4 identity matrix using NumPy."
   ]
  },
  {
   "cell_type": "code",
   "execution_count": 42,
   "id": "36aa51ff-5177-4b08-8172-2ab3311b1901",
   "metadata": {},
   "outputs": [
    {
     "data": {
      "text/plain": [
       "array([[1., 0., 0., 0.],\n",
       "       [0., 1., 0., 0.],\n",
       "       [0., 0., 1., 0.],\n",
       "       [0., 0., 0., 1.]])"
      ]
     },
     "execution_count": 42,
     "metadata": {},
     "output_type": "execute_result"
    }
   ],
   "source": [
    "identity_matrix = pd.identity(4)\n",
    "identity_matrix"
   ]
  },
  {
   "cell_type": "markdown",
   "id": "bf26ed03-0fbc-49c8-9b2c-832c18c6f751",
   "metadata": {},
   "source": [
    "### Q6. Create an array from the list [10, 20, 30, 40] and change the data type to float."
   ]
  },
  {
   "cell_type": "code",
   "execution_count": 49,
   "id": "a826c5aa-e352-4e00-afaf-3d0d26de002a",
   "metadata": {},
   "outputs": [
    {
     "data": {
      "text/plain": [
       "array([10., 20., 30., 40.])"
      ]
     },
     "execution_count": 49,
     "metadata": {},
     "output_type": "execute_result"
    }
   ],
   "source": [
    "arr_list = np.array([10,20,30,40], dtype = float)\n",
    "arr_list"
   ]
  },
  {
   "cell_type": "markdown",
   "id": "2b45c79c-4f45-4f39-a7c8-35e58faac60d",
   "metadata": {},
   "source": [
    "### Q7. Create a 3x3 array with values from 1 to 9, then extract the second column."
   ]
  },
  {
   "cell_type": "code",
   "execution_count": 70,
   "id": "5c5a027b-77bf-4fff-9ca2-99d35ca2d1a3",
   "metadata": {},
   "outputs": [
    {
     "data": {
      "text/plain": [
       "array([[1, 2, 3],\n",
       "       [4, 5, 6],\n",
       "       [7, 8, 9]])"
      ]
     },
     "execution_count": 70,
     "metadata": {},
     "output_type": "execute_result"
    }
   ],
   "source": [
    "arr3D = np.array([[1,2,3],[4,5,6],[7,8,9]]).reshape(3, 3)\n",
    "arr3D"
   ]
  },
  {
   "cell_type": "code",
   "execution_count": 75,
   "id": "89b2ce63-1aac-4911-b55e-77119113c237",
   "metadata": {},
   "outputs": [
    {
     "data": {
      "text/plain": [
       "array([2, 5, 8])"
      ]
     },
     "execution_count": 75,
     "metadata": {},
     "output_type": "execute_result"
    }
   ],
   "source": [
    "second_column = arr3D[:, 1]\n",
    "second_column "
   ]
  },
  {
   "cell_type": "markdown",
   "id": "97ba9b30-2372-4b45-85a1-a7814774b916",
   "metadata": {},
   "source": [
    "### Q8. Create a 1D array with 10 elements and reshape it into a 2x5 matrix."
   ]
  },
  {
   "cell_type": "code",
   "execution_count": 76,
   "id": "6b947395-e2d6-4b6a-b4a9-65ab93ee6b1c",
   "metadata": {},
   "outputs": [
    {
     "data": {
      "text/plain": [
       "array([[ 1,  2,  3,  4,  5],\n",
       "       [ 6,  7,  8,  9, 10]])"
      ]
     },
     "execution_count": 76,
     "metadata": {},
     "output_type": "execute_result"
    }
   ],
   "source": [
    "arr1 = np.array([1, 2, 3, 4, 5, 6, 7, 8, 9, 10])\n",
    "arr1.reshape(2,5)"
   ]
  },
  {
   "cell_type": "markdown",
   "id": "7f95c514-969f-4f63-a909-bfef65b9929b",
   "metadata": {},
   "source": [
    "### Q9. Create two 2x2 matrices and perform matrix multiplication."
   ]
  },
  {
   "cell_type": "code",
   "execution_count": 80,
   "id": "019e98ac-b9ef-4320-8706-4ce2c86428c4",
   "metadata": {},
   "outputs": [
    {
     "data": {
      "text/plain": [
       "array([[ 5, 12],\n",
       "       [21, 32]])"
      ]
     },
     "execution_count": 80,
     "metadata": {},
     "output_type": "execute_result"
    }
   ],
   "source": [
    "mat1 = np.array([[1, 2],[3, 4]])\n",
    "mat2 = np.array([[5, 6],[7, 8]])\n",
    "mul = mat1 * mat2\n",
    "mul"
   ]
  },
  {
   "cell_type": "markdown",
   "id": "88035a82-ba42-4dff-a647-ef755351c90f",
   "metadata": {},
   "source": [
    "### Q10. Given the array arr = np.array([5, 12, 7, 18, 3]), replace all values greater than 10 with 100."
   ]
  },
  {
   "cell_type": "code",
   "execution_count": 83,
   "id": "de656e74-ed3d-49b8-a75d-cd1474c46c9e",
   "metadata": {},
   "outputs": [
    {
     "data": {
      "text/plain": [
       "array([  5, 100,   7, 100,   3])"
      ]
     },
     "execution_count": 83,
     "metadata": {},
     "output_type": "execute_result"
    }
   ],
   "source": [
    "arr = np.array([5, 12, 7, 18, 3])\n",
    "arr[arr > 10] = 100\n",
    "arr"
   ]
  }
 ],
 "metadata": {
  "kernelspec": {
   "display_name": "Python 3 (ipykernel)",
   "language": "python",
   "name": "python3"
  },
  "language_info": {
   "codemirror_mode": {
    "name": "ipython",
    "version": 3
   },
   "file_extension": ".py",
   "mimetype": "text/x-python",
   "name": "python",
   "nbconvert_exporter": "python",
   "pygments_lexer": "ipython3",
   "version": "3.12.7"
  }
 },
 "nbformat": 4,
 "nbformat_minor": 5
}
